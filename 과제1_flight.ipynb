{
  "nbformat": 4,
  "nbformat_minor": 0,
  "metadata": {
    "colab": {
      "name": "과제1.ipynb",
      "provenance": [],
      "collapsed_sections": [],
      "toc_visible": true,
      "authorship_tag": "ABX9TyMsTuhDvj0Q/2tjAVhIwEtY",
      "include_colab_link": true
    },
    "kernelspec": {
      "name": "ir",
      "display_name": "R"
    }
  },
  "cells": [
    {
      "cell_type": "markdown",
      "metadata": {
        "id": "view-in-github",
        "colab_type": "text"
      },
      "source": [
        "<a href=\"https://colab.research.google.com/github/gkgpwls2003/middle2/blob/main/%EA%B3%BC%EC%A0%9C1_flight.ipynb\" target=\"_parent\"><img src=\"https://colab.research.google.com/assets/colab-badge.svg\" alt=\"Open In Colab\"/></a>"
      ]
    },
    {
      "cell_type": "code",
      "metadata": {
        "id": "5QpTJK-rws2G"
      },
      "source": [
        "library(tidyverse)"
      ],
      "execution_count": 33,
      "outputs": []
    },
    {
      "cell_type": "code",
      "metadata": {
        "colab": {
          "base_uri": "https://localhost:8080/"
        },
        "id": "btAN46E_zWeA",
        "outputId": "f0bdf5f5-59a4-4d14-b24b-c7dcb1ed4275"
      },
      "source": [
        "install.packages(\"nycflights13\")"
      ],
      "execution_count": 34,
      "outputs": [
        {
          "output_type": "stream",
          "text": [
            "Installing package into ‘/usr/local/lib/R/site-library’\n",
            "(as ‘lib’ is unspecified)\n",
            "\n"
          ],
          "name": "stderr"
        }
      ]
    },
    {
      "cell_type": "code",
      "metadata": {
        "id": "QTJgofnNXwZG"
      },
      "source": [
        "library(nycflights13)\n"
      ],
      "execution_count": 35,
      "outputs": []
    },
    {
      "cell_type": "code",
      "metadata": {
        "colab": {
          "base_uri": "https://localhost:8080/",
          "height": 352
        },
        "id": "fUt5ZSnWX_L2",
        "outputId": "794282c8-561e-4e82-da3d-c6160fadf817"
      },
      "source": [
        "flights[1:5,]"
      ],
      "execution_count": 36,
      "outputs": [
        {
          "output_type": "display_data",
          "data": {
            "text/plain": [
              "  year month day dep_time sched_dep_time dep_delay arr_time sched_arr_time\n",
              "1 2013 1     1   517      515             2         830      819          \n",
              "2 2013 1     1   533      529             4         850      830          \n",
              "3 2013 1     1   542      540             2         923      850          \n",
              "4 2013 1     1   544      545            -1        1004     1022          \n",
              "5 2013 1     1   554      600            -6         812      837          \n",
              "  arr_delay carrier flight tailnum origin dest air_time distance hour minute\n",
              "1  11       UA      1545   N14228  EWR    IAH  227      1400     5    15    \n",
              "2  20       UA      1714   N24211  LGA    IAH  227      1416     5    29    \n",
              "3  33       AA      1141   N619AA  JFK    MIA  160      1089     5    40    \n",
              "4 -18       B6       725   N804JB  JFK    BQN  183      1576     5    45    \n",
              "5 -25       DL       461   N668DN  LGA    ATL  116       762     6     0    \n",
              "  time_hour          \n",
              "1 2013-01-01 05:00:00\n",
              "2 2013-01-01 05:00:00\n",
              "3 2013-01-01 05:00:00\n",
              "4 2013-01-01 05:00:00\n",
              "5 2013-01-01 06:00:00"
            ],
            "text/latex": "A tibble: 5 × 19\n\\begin{tabular}{lllllllllllllllllll}\n year & month & day & dep\\_time & sched\\_dep\\_time & dep\\_delay & arr\\_time & sched\\_arr\\_time & arr\\_delay & carrier & flight & tailnum & origin & dest & air\\_time & distance & hour & minute & time\\_hour\\\\\n <int> & <int> & <int> & <int> & <int> & <dbl> & <int> & <int> & <dbl> & <chr> & <int> & <chr> & <chr> & <chr> & <dbl> & <dbl> & <dbl> & <dbl> & <dttm>\\\\\n\\hline\n\t 2013 & 1 & 1 & 517 & 515 &  2 &  830 &  819 &  11 & UA & 1545 & N14228 & EWR & IAH & 227 & 1400 & 5 & 15 & 2013-01-01 05:00:00\\\\\n\t 2013 & 1 & 1 & 533 & 529 &  4 &  850 &  830 &  20 & UA & 1714 & N24211 & LGA & IAH & 227 & 1416 & 5 & 29 & 2013-01-01 05:00:00\\\\\n\t 2013 & 1 & 1 & 542 & 540 &  2 &  923 &  850 &  33 & AA & 1141 & N619AA & JFK & MIA & 160 & 1089 & 5 & 40 & 2013-01-01 05:00:00\\\\\n\t 2013 & 1 & 1 & 544 & 545 & -1 & 1004 & 1022 & -18 & B6 &  725 & N804JB & JFK & BQN & 183 & 1576 & 5 & 45 & 2013-01-01 05:00:00\\\\\n\t 2013 & 1 & 1 & 554 & 600 & -6 &  812 &  837 & -25 & DL &  461 & N668DN & LGA & ATL & 116 &  762 & 6 &  0 & 2013-01-01 06:00:00\\\\\n\\end{tabular}\n",
            "text/markdown": "\nA tibble: 5 × 19\n\n| year &lt;int&gt; | month &lt;int&gt; | day &lt;int&gt; | dep_time &lt;int&gt; | sched_dep_time &lt;int&gt; | dep_delay &lt;dbl&gt; | arr_time &lt;int&gt; | sched_arr_time &lt;int&gt; | arr_delay &lt;dbl&gt; | carrier &lt;chr&gt; | flight &lt;int&gt; | tailnum &lt;chr&gt; | origin &lt;chr&gt; | dest &lt;chr&gt; | air_time &lt;dbl&gt; | distance &lt;dbl&gt; | hour &lt;dbl&gt; | minute &lt;dbl&gt; | time_hour &lt;dttm&gt; |\n|---|---|---|---|---|---|---|---|---|---|---|---|---|---|---|---|---|---|---|\n| 2013 | 1 | 1 | 517 | 515 |  2 |  830 |  819 |  11 | UA | 1545 | N14228 | EWR | IAH | 227 | 1400 | 5 | 15 | 2013-01-01 05:00:00 |\n| 2013 | 1 | 1 | 533 | 529 |  4 |  850 |  830 |  20 | UA | 1714 | N24211 | LGA | IAH | 227 | 1416 | 5 | 29 | 2013-01-01 05:00:00 |\n| 2013 | 1 | 1 | 542 | 540 |  2 |  923 |  850 |  33 | AA | 1141 | N619AA | JFK | MIA | 160 | 1089 | 5 | 40 | 2013-01-01 05:00:00 |\n| 2013 | 1 | 1 | 544 | 545 | -1 | 1004 | 1022 | -18 | B6 |  725 | N804JB | JFK | BQN | 183 | 1576 | 5 | 45 | 2013-01-01 05:00:00 |\n| 2013 | 1 | 1 | 554 | 600 | -6 |  812 |  837 | -25 | DL |  461 | N668DN | LGA | ATL | 116 |  762 | 6 |  0 | 2013-01-01 06:00:00 |\n\n",
            "text/html": [
              "<table class=\"dataframe\">\n",
              "<caption>A tibble: 5 × 19</caption>\n",
              "<thead>\n",
              "\t<tr><th scope=col>year</th><th scope=col>month</th><th scope=col>day</th><th scope=col>dep_time</th><th scope=col>sched_dep_time</th><th scope=col>dep_delay</th><th scope=col>arr_time</th><th scope=col>sched_arr_time</th><th scope=col>arr_delay</th><th scope=col>carrier</th><th scope=col>flight</th><th scope=col>tailnum</th><th scope=col>origin</th><th scope=col>dest</th><th scope=col>air_time</th><th scope=col>distance</th><th scope=col>hour</th><th scope=col>minute</th><th scope=col>time_hour</th></tr>\n",
              "\t<tr><th scope=col>&lt;int&gt;</th><th scope=col>&lt;int&gt;</th><th scope=col>&lt;int&gt;</th><th scope=col>&lt;int&gt;</th><th scope=col>&lt;int&gt;</th><th scope=col>&lt;dbl&gt;</th><th scope=col>&lt;int&gt;</th><th scope=col>&lt;int&gt;</th><th scope=col>&lt;dbl&gt;</th><th scope=col>&lt;chr&gt;</th><th scope=col>&lt;int&gt;</th><th scope=col>&lt;chr&gt;</th><th scope=col>&lt;chr&gt;</th><th scope=col>&lt;chr&gt;</th><th scope=col>&lt;dbl&gt;</th><th scope=col>&lt;dbl&gt;</th><th scope=col>&lt;dbl&gt;</th><th scope=col>&lt;dbl&gt;</th><th scope=col>&lt;dttm&gt;</th></tr>\n",
              "</thead>\n",
              "<tbody>\n",
              "\t<tr><td>2013</td><td>1</td><td>1</td><td>517</td><td>515</td><td> 2</td><td> 830</td><td> 819</td><td> 11</td><td>UA</td><td>1545</td><td>N14228</td><td>EWR</td><td>IAH</td><td>227</td><td>1400</td><td>5</td><td>15</td><td>2013-01-01 05:00:00</td></tr>\n",
              "\t<tr><td>2013</td><td>1</td><td>1</td><td>533</td><td>529</td><td> 4</td><td> 850</td><td> 830</td><td> 20</td><td>UA</td><td>1714</td><td>N24211</td><td>LGA</td><td>IAH</td><td>227</td><td>1416</td><td>5</td><td>29</td><td>2013-01-01 05:00:00</td></tr>\n",
              "\t<tr><td>2013</td><td>1</td><td>1</td><td>542</td><td>540</td><td> 2</td><td> 923</td><td> 850</td><td> 33</td><td>AA</td><td>1141</td><td>N619AA</td><td>JFK</td><td>MIA</td><td>160</td><td>1089</td><td>5</td><td>40</td><td>2013-01-01 05:00:00</td></tr>\n",
              "\t<tr><td>2013</td><td>1</td><td>1</td><td>544</td><td>545</td><td>-1</td><td>1004</td><td>1022</td><td>-18</td><td>B6</td><td> 725</td><td>N804JB</td><td>JFK</td><td>BQN</td><td>183</td><td>1576</td><td>5</td><td>45</td><td>2013-01-01 05:00:00</td></tr>\n",
              "\t<tr><td>2013</td><td>1</td><td>1</td><td>554</td><td>600</td><td>-6</td><td> 812</td><td> 837</td><td>-25</td><td>DL</td><td> 461</td><td>N668DN</td><td>LGA</td><td>ATL</td><td>116</td><td> 762</td><td>6</td><td> 0</td><td>2013-01-01 06:00:00</td></tr>\n",
              "</tbody>\n",
              "</table>\n"
            ]
          },
          "metadata": {
            "tags": []
          }
        }
      ]
    },
    {
      "cell_type": "markdown",
      "metadata": {
        "id": "mTvnO1_cxVjE"
      },
      "source": [
        "## 1.filter"
      ]
    },
    {
      "cell_type": "code",
      "metadata": {
        "colab": {
          "base_uri": "https://localhost:8080/",
          "height": 399
        },
        "id": "LTdnMIZ-yDAj",
        "outputId": "499051d1-d708-4384-d82b-e583f510d77c"
      },
      "source": [
        "flights %>% filter(month==1, day==1) %>% filter(dest == 'MIA') %>% head()"
      ],
      "execution_count": 37,
      "outputs": [
        {
          "output_type": "display_data",
          "data": {
            "text/plain": [
              "  year month day dep_time sched_dep_time dep_delay arr_time sched_arr_time\n",
              "1 2013 1     1   542      540             2         923      850          \n",
              "2 2013 1     1   606      610            -4         858      910          \n",
              "3 2013 1     1   607      607             0         858      915          \n",
              "4 2013 1     1   623      610            13         920      915          \n",
              "5 2013 1     1   655      700            -5        1002     1020          \n",
              "6 2013 1     1   659      700            -1        1008     1015          \n",
              "  arr_delay carrier flight tailnum origin dest air_time distance hour minute\n",
              "1  33       AA      1141   N619AA  JFK    MIA  160      1089     5    40    \n",
              "2 -12       AA      1895   N633AA  EWR    MIA  152      1085     6    10    \n",
              "3 -17       UA      1077   N53442  EWR    MIA  157      1085     6     7    \n",
              "4   5       AA      1837   N3EMAA  LGA    MIA  153      1096     6    10    \n",
              "5 -18       DL      2003   N997DL  LGA    MIA  161      1096     7     0    \n",
              "6  -7       AA      2279   N3EKAA  LGA    MIA  159      1096     7     0    \n",
              "  time_hour          \n",
              "1 2013-01-01 05:00:00\n",
              "2 2013-01-01 06:00:00\n",
              "3 2013-01-01 06:00:00\n",
              "4 2013-01-01 06:00:00\n",
              "5 2013-01-01 07:00:00\n",
              "6 2013-01-01 07:00:00"
            ],
            "text/latex": "A tibble: 6 × 19\n\\begin{tabular}{lllllllllllllllllll}\n year & month & day & dep\\_time & sched\\_dep\\_time & dep\\_delay & arr\\_time & sched\\_arr\\_time & arr\\_delay & carrier & flight & tailnum & origin & dest & air\\_time & distance & hour & minute & time\\_hour\\\\\n <int> & <int> & <int> & <int> & <int> & <dbl> & <int> & <int> & <dbl> & <chr> & <int> & <chr> & <chr> & <chr> & <dbl> & <dbl> & <dbl> & <dbl> & <dttm>\\\\\n\\hline\n\t 2013 & 1 & 1 & 542 & 540 &  2 &  923 &  850 &  33 & AA & 1141 & N619AA & JFK & MIA & 160 & 1089 & 5 & 40 & 2013-01-01 05:00:00\\\\\n\t 2013 & 1 & 1 & 606 & 610 & -4 &  858 &  910 & -12 & AA & 1895 & N633AA & EWR & MIA & 152 & 1085 & 6 & 10 & 2013-01-01 06:00:00\\\\\n\t 2013 & 1 & 1 & 607 & 607 &  0 &  858 &  915 & -17 & UA & 1077 & N53442 & EWR & MIA & 157 & 1085 & 6 &  7 & 2013-01-01 06:00:00\\\\\n\t 2013 & 1 & 1 & 623 & 610 & 13 &  920 &  915 &   5 & AA & 1837 & N3EMAA & LGA & MIA & 153 & 1096 & 6 & 10 & 2013-01-01 06:00:00\\\\\n\t 2013 & 1 & 1 & 655 & 700 & -5 & 1002 & 1020 & -18 & DL & 2003 & N997DL & LGA & MIA & 161 & 1096 & 7 &  0 & 2013-01-01 07:00:00\\\\\n\t 2013 & 1 & 1 & 659 & 700 & -1 & 1008 & 1015 &  -7 & AA & 2279 & N3EKAA & LGA & MIA & 159 & 1096 & 7 &  0 & 2013-01-01 07:00:00\\\\\n\\end{tabular}\n",
            "text/markdown": "\nA tibble: 6 × 19\n\n| year &lt;int&gt; | month &lt;int&gt; | day &lt;int&gt; | dep_time &lt;int&gt; | sched_dep_time &lt;int&gt; | dep_delay &lt;dbl&gt; | arr_time &lt;int&gt; | sched_arr_time &lt;int&gt; | arr_delay &lt;dbl&gt; | carrier &lt;chr&gt; | flight &lt;int&gt; | tailnum &lt;chr&gt; | origin &lt;chr&gt; | dest &lt;chr&gt; | air_time &lt;dbl&gt; | distance &lt;dbl&gt; | hour &lt;dbl&gt; | minute &lt;dbl&gt; | time_hour &lt;dttm&gt; |\n|---|---|---|---|---|---|---|---|---|---|---|---|---|---|---|---|---|---|---|\n| 2013 | 1 | 1 | 542 | 540 |  2 |  923 |  850 |  33 | AA | 1141 | N619AA | JFK | MIA | 160 | 1089 | 5 | 40 | 2013-01-01 05:00:00 |\n| 2013 | 1 | 1 | 606 | 610 | -4 |  858 |  910 | -12 | AA | 1895 | N633AA | EWR | MIA | 152 | 1085 | 6 | 10 | 2013-01-01 06:00:00 |\n| 2013 | 1 | 1 | 607 | 607 |  0 |  858 |  915 | -17 | UA | 1077 | N53442 | EWR | MIA | 157 | 1085 | 6 |  7 | 2013-01-01 06:00:00 |\n| 2013 | 1 | 1 | 623 | 610 | 13 |  920 |  915 |   5 | AA | 1837 | N3EMAA | LGA | MIA | 153 | 1096 | 6 | 10 | 2013-01-01 06:00:00 |\n| 2013 | 1 | 1 | 655 | 700 | -5 | 1002 | 1020 | -18 | DL | 2003 | N997DL | LGA | MIA | 161 | 1096 | 7 |  0 | 2013-01-01 07:00:00 |\n| 2013 | 1 | 1 | 659 | 700 | -1 | 1008 | 1015 |  -7 | AA | 2279 | N3EKAA | LGA | MIA | 159 | 1096 | 7 |  0 | 2013-01-01 07:00:00 |\n\n",
            "text/html": [
              "<table class=\"dataframe\">\n",
              "<caption>A tibble: 6 × 19</caption>\n",
              "<thead>\n",
              "\t<tr><th scope=col>year</th><th scope=col>month</th><th scope=col>day</th><th scope=col>dep_time</th><th scope=col>sched_dep_time</th><th scope=col>dep_delay</th><th scope=col>arr_time</th><th scope=col>sched_arr_time</th><th scope=col>arr_delay</th><th scope=col>carrier</th><th scope=col>flight</th><th scope=col>tailnum</th><th scope=col>origin</th><th scope=col>dest</th><th scope=col>air_time</th><th scope=col>distance</th><th scope=col>hour</th><th scope=col>minute</th><th scope=col>time_hour</th></tr>\n",
              "\t<tr><th scope=col>&lt;int&gt;</th><th scope=col>&lt;int&gt;</th><th scope=col>&lt;int&gt;</th><th scope=col>&lt;int&gt;</th><th scope=col>&lt;int&gt;</th><th scope=col>&lt;dbl&gt;</th><th scope=col>&lt;int&gt;</th><th scope=col>&lt;int&gt;</th><th scope=col>&lt;dbl&gt;</th><th scope=col>&lt;chr&gt;</th><th scope=col>&lt;int&gt;</th><th scope=col>&lt;chr&gt;</th><th scope=col>&lt;chr&gt;</th><th scope=col>&lt;chr&gt;</th><th scope=col>&lt;dbl&gt;</th><th scope=col>&lt;dbl&gt;</th><th scope=col>&lt;dbl&gt;</th><th scope=col>&lt;dbl&gt;</th><th scope=col>&lt;dttm&gt;</th></tr>\n",
              "</thead>\n",
              "<tbody>\n",
              "\t<tr><td>2013</td><td>1</td><td>1</td><td>542</td><td>540</td><td> 2</td><td> 923</td><td> 850</td><td> 33</td><td>AA</td><td>1141</td><td>N619AA</td><td>JFK</td><td>MIA</td><td>160</td><td>1089</td><td>5</td><td>40</td><td>2013-01-01 05:00:00</td></tr>\n",
              "\t<tr><td>2013</td><td>1</td><td>1</td><td>606</td><td>610</td><td>-4</td><td> 858</td><td> 910</td><td>-12</td><td>AA</td><td>1895</td><td>N633AA</td><td>EWR</td><td>MIA</td><td>152</td><td>1085</td><td>6</td><td>10</td><td>2013-01-01 06:00:00</td></tr>\n",
              "\t<tr><td>2013</td><td>1</td><td>1</td><td>607</td><td>607</td><td> 0</td><td> 858</td><td> 915</td><td>-17</td><td>UA</td><td>1077</td><td>N53442</td><td>EWR</td><td>MIA</td><td>157</td><td>1085</td><td>6</td><td> 7</td><td>2013-01-01 06:00:00</td></tr>\n",
              "\t<tr><td>2013</td><td>1</td><td>1</td><td>623</td><td>610</td><td>13</td><td> 920</td><td> 915</td><td>  5</td><td>AA</td><td>1837</td><td>N3EMAA</td><td>LGA</td><td>MIA</td><td>153</td><td>1096</td><td>6</td><td>10</td><td>2013-01-01 06:00:00</td></tr>\n",
              "\t<tr><td>2013</td><td>1</td><td>1</td><td>655</td><td>700</td><td>-5</td><td>1002</td><td>1020</td><td>-18</td><td>DL</td><td>2003</td><td>N997DL</td><td>LGA</td><td>MIA</td><td>161</td><td>1096</td><td>7</td><td> 0</td><td>2013-01-01 07:00:00</td></tr>\n",
              "\t<tr><td>2013</td><td>1</td><td>1</td><td>659</td><td>700</td><td>-1</td><td>1008</td><td>1015</td><td> -7</td><td>AA</td><td>2279</td><td>N3EKAA</td><td>LGA</td><td>MIA</td><td>159</td><td>1096</td><td>7</td><td> 0</td><td>2013-01-01 07:00:00</td></tr>\n",
              "</tbody>\n",
              "</table>\n"
            ]
          },
          "metadata": {
            "tags": []
          }
        }
      ]
    },
    {
      "cell_type": "code",
      "metadata": {
        "colab": {
          "base_uri": "https://localhost:8080/",
          "height": 399
        },
        "id": "Ruy9kTAV1CMS",
        "outputId": "96bcb253-23cd-4f4b-82b2-054c9d003f42"
      },
      "source": [
        "flights %>% filter(month == 1 & day == 1 & dest %in% c('MIA','LAS')) %>% head()"
      ],
      "execution_count": 38,
      "outputs": [
        {
          "output_type": "display_data",
          "data": {
            "text/plain": [
              "  year month day dep_time sched_dep_time dep_delay arr_time sched_arr_time\n",
              "1 2013 1     1   542      540             2        923      850           \n",
              "2 2013 1     1   559      600            -1        854      902           \n",
              "3 2013 1     1   606      610            -4        858      910           \n",
              "4 2013 1     1   607      607             0        858      915           \n",
              "5 2013 1     1   623      610            13        920      915           \n",
              "6 2013 1     1   651      655            -4        936      942           \n",
              "  arr_delay carrier flight tailnum origin dest air_time distance hour minute\n",
              "1  33       AA      1141   N619AA  JFK    MIA  160      1089     5    40    \n",
              "2  -8       UA      1187   N76515  EWR    LAS  337      2227     6     0    \n",
              "3 -12       AA      1895   N633AA  EWR    MIA  152      1085     6    10    \n",
              "4 -17       UA      1077   N53442  EWR    MIA  157      1085     6     7    \n",
              "5   5       AA      1837   N3EMAA  LGA    MIA  153      1096     6    10    \n",
              "6  -6       B6       203   N558JB  JFK    LAS  323      2248     6    55    \n",
              "  time_hour          \n",
              "1 2013-01-01 05:00:00\n",
              "2 2013-01-01 06:00:00\n",
              "3 2013-01-01 06:00:00\n",
              "4 2013-01-01 06:00:00\n",
              "5 2013-01-01 06:00:00\n",
              "6 2013-01-01 06:00:00"
            ],
            "text/latex": "A tibble: 6 × 19\n\\begin{tabular}{lllllllllllllllllll}\n year & month & day & dep\\_time & sched\\_dep\\_time & dep\\_delay & arr\\_time & sched\\_arr\\_time & arr\\_delay & carrier & flight & tailnum & origin & dest & air\\_time & distance & hour & minute & time\\_hour\\\\\n <int> & <int> & <int> & <int> & <int> & <dbl> & <int> & <int> & <dbl> & <chr> & <int> & <chr> & <chr> & <chr> & <dbl> & <dbl> & <dbl> & <dbl> & <dttm>\\\\\n\\hline\n\t 2013 & 1 & 1 & 542 & 540 &  2 & 923 & 850 &  33 & AA & 1141 & N619AA & JFK & MIA & 160 & 1089 & 5 & 40 & 2013-01-01 05:00:00\\\\\n\t 2013 & 1 & 1 & 559 & 600 & -1 & 854 & 902 &  -8 & UA & 1187 & N76515 & EWR & LAS & 337 & 2227 & 6 &  0 & 2013-01-01 06:00:00\\\\\n\t 2013 & 1 & 1 & 606 & 610 & -4 & 858 & 910 & -12 & AA & 1895 & N633AA & EWR & MIA & 152 & 1085 & 6 & 10 & 2013-01-01 06:00:00\\\\\n\t 2013 & 1 & 1 & 607 & 607 &  0 & 858 & 915 & -17 & UA & 1077 & N53442 & EWR & MIA & 157 & 1085 & 6 &  7 & 2013-01-01 06:00:00\\\\\n\t 2013 & 1 & 1 & 623 & 610 & 13 & 920 & 915 &   5 & AA & 1837 & N3EMAA & LGA & MIA & 153 & 1096 & 6 & 10 & 2013-01-01 06:00:00\\\\\n\t 2013 & 1 & 1 & 651 & 655 & -4 & 936 & 942 &  -6 & B6 &  203 & N558JB & JFK & LAS & 323 & 2248 & 6 & 55 & 2013-01-01 06:00:00\\\\\n\\end{tabular}\n",
            "text/markdown": "\nA tibble: 6 × 19\n\n| year &lt;int&gt; | month &lt;int&gt; | day &lt;int&gt; | dep_time &lt;int&gt; | sched_dep_time &lt;int&gt; | dep_delay &lt;dbl&gt; | arr_time &lt;int&gt; | sched_arr_time &lt;int&gt; | arr_delay &lt;dbl&gt; | carrier &lt;chr&gt; | flight &lt;int&gt; | tailnum &lt;chr&gt; | origin &lt;chr&gt; | dest &lt;chr&gt; | air_time &lt;dbl&gt; | distance &lt;dbl&gt; | hour &lt;dbl&gt; | minute &lt;dbl&gt; | time_hour &lt;dttm&gt; |\n|---|---|---|---|---|---|---|---|---|---|---|---|---|---|---|---|---|---|---|\n| 2013 | 1 | 1 | 542 | 540 |  2 | 923 | 850 |  33 | AA | 1141 | N619AA | JFK | MIA | 160 | 1089 | 5 | 40 | 2013-01-01 05:00:00 |\n| 2013 | 1 | 1 | 559 | 600 | -1 | 854 | 902 |  -8 | UA | 1187 | N76515 | EWR | LAS | 337 | 2227 | 6 |  0 | 2013-01-01 06:00:00 |\n| 2013 | 1 | 1 | 606 | 610 | -4 | 858 | 910 | -12 | AA | 1895 | N633AA | EWR | MIA | 152 | 1085 | 6 | 10 | 2013-01-01 06:00:00 |\n| 2013 | 1 | 1 | 607 | 607 |  0 | 858 | 915 | -17 | UA | 1077 | N53442 | EWR | MIA | 157 | 1085 | 6 |  7 | 2013-01-01 06:00:00 |\n| 2013 | 1 | 1 | 623 | 610 | 13 | 920 | 915 |   5 | AA | 1837 | N3EMAA | LGA | MIA | 153 | 1096 | 6 | 10 | 2013-01-01 06:00:00 |\n| 2013 | 1 | 1 | 651 | 655 | -4 | 936 | 942 |  -6 | B6 |  203 | N558JB | JFK | LAS | 323 | 2248 | 6 | 55 | 2013-01-01 06:00:00 |\n\n",
            "text/html": [
              "<table class=\"dataframe\">\n",
              "<caption>A tibble: 6 × 19</caption>\n",
              "<thead>\n",
              "\t<tr><th scope=col>year</th><th scope=col>month</th><th scope=col>day</th><th scope=col>dep_time</th><th scope=col>sched_dep_time</th><th scope=col>dep_delay</th><th scope=col>arr_time</th><th scope=col>sched_arr_time</th><th scope=col>arr_delay</th><th scope=col>carrier</th><th scope=col>flight</th><th scope=col>tailnum</th><th scope=col>origin</th><th scope=col>dest</th><th scope=col>air_time</th><th scope=col>distance</th><th scope=col>hour</th><th scope=col>minute</th><th scope=col>time_hour</th></tr>\n",
              "\t<tr><th scope=col>&lt;int&gt;</th><th scope=col>&lt;int&gt;</th><th scope=col>&lt;int&gt;</th><th scope=col>&lt;int&gt;</th><th scope=col>&lt;int&gt;</th><th scope=col>&lt;dbl&gt;</th><th scope=col>&lt;int&gt;</th><th scope=col>&lt;int&gt;</th><th scope=col>&lt;dbl&gt;</th><th scope=col>&lt;chr&gt;</th><th scope=col>&lt;int&gt;</th><th scope=col>&lt;chr&gt;</th><th scope=col>&lt;chr&gt;</th><th scope=col>&lt;chr&gt;</th><th scope=col>&lt;dbl&gt;</th><th scope=col>&lt;dbl&gt;</th><th scope=col>&lt;dbl&gt;</th><th scope=col>&lt;dbl&gt;</th><th scope=col>&lt;dttm&gt;</th></tr>\n",
              "</thead>\n",
              "<tbody>\n",
              "\t<tr><td>2013</td><td>1</td><td>1</td><td>542</td><td>540</td><td> 2</td><td>923</td><td>850</td><td> 33</td><td>AA</td><td>1141</td><td>N619AA</td><td>JFK</td><td>MIA</td><td>160</td><td>1089</td><td>5</td><td>40</td><td>2013-01-01 05:00:00</td></tr>\n",
              "\t<tr><td>2013</td><td>1</td><td>1</td><td>559</td><td>600</td><td>-1</td><td>854</td><td>902</td><td> -8</td><td>UA</td><td>1187</td><td>N76515</td><td>EWR</td><td>LAS</td><td>337</td><td>2227</td><td>6</td><td> 0</td><td>2013-01-01 06:00:00</td></tr>\n",
              "\t<tr><td>2013</td><td>1</td><td>1</td><td>606</td><td>610</td><td>-4</td><td>858</td><td>910</td><td>-12</td><td>AA</td><td>1895</td><td>N633AA</td><td>EWR</td><td>MIA</td><td>152</td><td>1085</td><td>6</td><td>10</td><td>2013-01-01 06:00:00</td></tr>\n",
              "\t<tr><td>2013</td><td>1</td><td>1</td><td>607</td><td>607</td><td> 0</td><td>858</td><td>915</td><td>-17</td><td>UA</td><td>1077</td><td>N53442</td><td>EWR</td><td>MIA</td><td>157</td><td>1085</td><td>6</td><td> 7</td><td>2013-01-01 06:00:00</td></tr>\n",
              "\t<tr><td>2013</td><td>1</td><td>1</td><td>623</td><td>610</td><td>13</td><td>920</td><td>915</td><td>  5</td><td>AA</td><td>1837</td><td>N3EMAA</td><td>LGA</td><td>MIA</td><td>153</td><td>1096</td><td>6</td><td>10</td><td>2013-01-01 06:00:00</td></tr>\n",
              "\t<tr><td>2013</td><td>1</td><td>1</td><td>651</td><td>655</td><td>-4</td><td>936</td><td>942</td><td> -6</td><td>B6</td><td> 203</td><td>N558JB</td><td>JFK</td><td>LAS</td><td>323</td><td>2248</td><td>6</td><td>55</td><td>2013-01-01 06:00:00</td></tr>\n",
              "</tbody>\n",
              "</table>\n"
            ]
          },
          "metadata": {
            "tags": []
          }
        }
      ]
    },
    {
      "cell_type": "markdown",
      "metadata": {
        "id": "z6eidnEZ83XL"
      },
      "source": [
        "## 2.arrange"
      ]
    },
    {
      "cell_type": "code",
      "metadata": {
        "colab": {
          "base_uri": "https://localhost:8080/",
          "height": 399
        },
        "id": "wnDuW-jv-laI",
        "outputId": "0b230b8a-beff-4645-ffdd-89889d1dfffa"
      },
      "source": [
        "arrange(flights,dest) %>% head()"
      ],
      "execution_count": 39,
      "outputs": [
        {
          "output_type": "display_data",
          "data": {
            "text/plain": [
              "  year month day dep_time sched_dep_time dep_delay arr_time sched_arr_time\n",
              "1 2013 10    1   1955     2001           -6        2213     2248          \n",
              "2 2013 10    2   2010     2001            9        2230     2248          \n",
              "3 2013 10    3   1955     2001           -6        2232     2248          \n",
              "4 2013 10    4   2017     2001           16        2304     2248          \n",
              "5 2013 10    5   1959     1959            0        2226     2246          \n",
              "6 2013 10    6   1959     2001           -2        2234     2248          \n",
              "  arr_delay carrier flight tailnum origin dest air_time distance hour minute\n",
              "1 -35       B6      65     N554JB  JFK    ABQ  230      1826     20    1    \n",
              "2 -18       B6      65     N607JB  JFK    ABQ  238      1826     20    1    \n",
              "3 -16       B6      65     N591JB  JFK    ABQ  251      1826     20    1    \n",
              "4  16       B6      65     N662JB  JFK    ABQ  257      1826     20    1    \n",
              "5 -20       B6      65     N580JB  JFK    ABQ  242      1826     19   59    \n",
              "6 -14       B6      65     N507JB  JFK    ABQ  240      1826     20    1    \n",
              "  time_hour          \n",
              "1 2013-10-01 20:00:00\n",
              "2 2013-10-02 20:00:00\n",
              "3 2013-10-03 20:00:00\n",
              "4 2013-10-04 20:00:00\n",
              "5 2013-10-05 19:00:00\n",
              "6 2013-10-06 20:00:00"
            ],
            "text/latex": "A tibble: 6 × 19\n\\begin{tabular}{lllllllllllllllllll}\n year & month & day & dep\\_time & sched\\_dep\\_time & dep\\_delay & arr\\_time & sched\\_arr\\_time & arr\\_delay & carrier & flight & tailnum & origin & dest & air\\_time & distance & hour & minute & time\\_hour\\\\\n <int> & <int> & <int> & <int> & <int> & <dbl> & <int> & <int> & <dbl> & <chr> & <int> & <chr> & <chr> & <chr> & <dbl> & <dbl> & <dbl> & <dbl> & <dttm>\\\\\n\\hline\n\t 2013 & 10 & 1 & 1955 & 2001 & -6 & 2213 & 2248 & -35 & B6 & 65 & N554JB & JFK & ABQ & 230 & 1826 & 20 &  1 & 2013-10-01 20:00:00\\\\\n\t 2013 & 10 & 2 & 2010 & 2001 &  9 & 2230 & 2248 & -18 & B6 & 65 & N607JB & JFK & ABQ & 238 & 1826 & 20 &  1 & 2013-10-02 20:00:00\\\\\n\t 2013 & 10 & 3 & 1955 & 2001 & -6 & 2232 & 2248 & -16 & B6 & 65 & N591JB & JFK & ABQ & 251 & 1826 & 20 &  1 & 2013-10-03 20:00:00\\\\\n\t 2013 & 10 & 4 & 2017 & 2001 & 16 & 2304 & 2248 &  16 & B6 & 65 & N662JB & JFK & ABQ & 257 & 1826 & 20 &  1 & 2013-10-04 20:00:00\\\\\n\t 2013 & 10 & 5 & 1959 & 1959 &  0 & 2226 & 2246 & -20 & B6 & 65 & N580JB & JFK & ABQ & 242 & 1826 & 19 & 59 & 2013-10-05 19:00:00\\\\\n\t 2013 & 10 & 6 & 1959 & 2001 & -2 & 2234 & 2248 & -14 & B6 & 65 & N507JB & JFK & ABQ & 240 & 1826 & 20 &  1 & 2013-10-06 20:00:00\\\\\n\\end{tabular}\n",
            "text/markdown": "\nA tibble: 6 × 19\n\n| year &lt;int&gt; | month &lt;int&gt; | day &lt;int&gt; | dep_time &lt;int&gt; | sched_dep_time &lt;int&gt; | dep_delay &lt;dbl&gt; | arr_time &lt;int&gt; | sched_arr_time &lt;int&gt; | arr_delay &lt;dbl&gt; | carrier &lt;chr&gt; | flight &lt;int&gt; | tailnum &lt;chr&gt; | origin &lt;chr&gt; | dest &lt;chr&gt; | air_time &lt;dbl&gt; | distance &lt;dbl&gt; | hour &lt;dbl&gt; | minute &lt;dbl&gt; | time_hour &lt;dttm&gt; |\n|---|---|---|---|---|---|---|---|---|---|---|---|---|---|---|---|---|---|---|\n| 2013 | 10 | 1 | 1955 | 2001 | -6 | 2213 | 2248 | -35 | B6 | 65 | N554JB | JFK | ABQ | 230 | 1826 | 20 |  1 | 2013-10-01 20:00:00 |\n| 2013 | 10 | 2 | 2010 | 2001 |  9 | 2230 | 2248 | -18 | B6 | 65 | N607JB | JFK | ABQ | 238 | 1826 | 20 |  1 | 2013-10-02 20:00:00 |\n| 2013 | 10 | 3 | 1955 | 2001 | -6 | 2232 | 2248 | -16 | B6 | 65 | N591JB | JFK | ABQ | 251 | 1826 | 20 |  1 | 2013-10-03 20:00:00 |\n| 2013 | 10 | 4 | 2017 | 2001 | 16 | 2304 | 2248 |  16 | B6 | 65 | N662JB | JFK | ABQ | 257 | 1826 | 20 |  1 | 2013-10-04 20:00:00 |\n| 2013 | 10 | 5 | 1959 | 1959 |  0 | 2226 | 2246 | -20 | B6 | 65 | N580JB | JFK | ABQ | 242 | 1826 | 19 | 59 | 2013-10-05 19:00:00 |\n| 2013 | 10 | 6 | 1959 | 2001 | -2 | 2234 | 2248 | -14 | B6 | 65 | N507JB | JFK | ABQ | 240 | 1826 | 20 |  1 | 2013-10-06 20:00:00 |\n\n",
            "text/html": [
              "<table class=\"dataframe\">\n",
              "<caption>A tibble: 6 × 19</caption>\n",
              "<thead>\n",
              "\t<tr><th scope=col>year</th><th scope=col>month</th><th scope=col>day</th><th scope=col>dep_time</th><th scope=col>sched_dep_time</th><th scope=col>dep_delay</th><th scope=col>arr_time</th><th scope=col>sched_arr_time</th><th scope=col>arr_delay</th><th scope=col>carrier</th><th scope=col>flight</th><th scope=col>tailnum</th><th scope=col>origin</th><th scope=col>dest</th><th scope=col>air_time</th><th scope=col>distance</th><th scope=col>hour</th><th scope=col>minute</th><th scope=col>time_hour</th></tr>\n",
              "\t<tr><th scope=col>&lt;int&gt;</th><th scope=col>&lt;int&gt;</th><th scope=col>&lt;int&gt;</th><th scope=col>&lt;int&gt;</th><th scope=col>&lt;int&gt;</th><th scope=col>&lt;dbl&gt;</th><th scope=col>&lt;int&gt;</th><th scope=col>&lt;int&gt;</th><th scope=col>&lt;dbl&gt;</th><th scope=col>&lt;chr&gt;</th><th scope=col>&lt;int&gt;</th><th scope=col>&lt;chr&gt;</th><th scope=col>&lt;chr&gt;</th><th scope=col>&lt;chr&gt;</th><th scope=col>&lt;dbl&gt;</th><th scope=col>&lt;dbl&gt;</th><th scope=col>&lt;dbl&gt;</th><th scope=col>&lt;dbl&gt;</th><th scope=col>&lt;dttm&gt;</th></tr>\n",
              "</thead>\n",
              "<tbody>\n",
              "\t<tr><td>2013</td><td>10</td><td>1</td><td>1955</td><td>2001</td><td>-6</td><td>2213</td><td>2248</td><td>-35</td><td>B6</td><td>65</td><td>N554JB</td><td>JFK</td><td>ABQ</td><td>230</td><td>1826</td><td>20</td><td> 1</td><td>2013-10-01 20:00:00</td></tr>\n",
              "\t<tr><td>2013</td><td>10</td><td>2</td><td>2010</td><td>2001</td><td> 9</td><td>2230</td><td>2248</td><td>-18</td><td>B6</td><td>65</td><td>N607JB</td><td>JFK</td><td>ABQ</td><td>238</td><td>1826</td><td>20</td><td> 1</td><td>2013-10-02 20:00:00</td></tr>\n",
              "\t<tr><td>2013</td><td>10</td><td>3</td><td>1955</td><td>2001</td><td>-6</td><td>2232</td><td>2248</td><td>-16</td><td>B6</td><td>65</td><td>N591JB</td><td>JFK</td><td>ABQ</td><td>251</td><td>1826</td><td>20</td><td> 1</td><td>2013-10-03 20:00:00</td></tr>\n",
              "\t<tr><td>2013</td><td>10</td><td>4</td><td>2017</td><td>2001</td><td>16</td><td>2304</td><td>2248</td><td> 16</td><td>B6</td><td>65</td><td>N662JB</td><td>JFK</td><td>ABQ</td><td>257</td><td>1826</td><td>20</td><td> 1</td><td>2013-10-04 20:00:00</td></tr>\n",
              "\t<tr><td>2013</td><td>10</td><td>5</td><td>1959</td><td>1959</td><td> 0</td><td>2226</td><td>2246</td><td>-20</td><td>B6</td><td>65</td><td>N580JB</td><td>JFK</td><td>ABQ</td><td>242</td><td>1826</td><td>19</td><td>59</td><td>2013-10-05 19:00:00</td></tr>\n",
              "\t<tr><td>2013</td><td>10</td><td>6</td><td>1959</td><td>2001</td><td>-2</td><td>2234</td><td>2248</td><td>-14</td><td>B6</td><td>65</td><td>N507JB</td><td>JFK</td><td>ABQ</td><td>240</td><td>1826</td><td>20</td><td> 1</td><td>2013-10-06 20:00:00</td></tr>\n",
              "</tbody>\n",
              "</table>\n"
            ]
          },
          "metadata": {
            "tags": []
          }
        }
      ]
    },
    {
      "cell_type": "code",
      "metadata": {
        "colab": {
          "base_uri": "https://localhost:8080/",
          "height": 399
        },
        "id": "KQpolROb84Sb",
        "outputId": "7fd875c1-26c5-45b9-c712-24a728ea91be"
      },
      "source": [
        "arrange(flights, desc(arr_delay)) %>% head()"
      ],
      "execution_count": 40,
      "outputs": [
        {
          "output_type": "display_data",
          "data": {
            "text/plain": [
              "  year month day dep_time sched_dep_time dep_delay arr_time sched_arr_time\n",
              "1 2013 1      9   641      900           1301      1242     1530          \n",
              "2 2013 6     15  1432     1935           1137      1607     2120          \n",
              "3 2013 1     10  1121     1635           1126      1239     1810          \n",
              "4 2013 9     20  1139     1845           1014      1457     2210          \n",
              "5 2013 7     22   845     1600           1005      1044     1815          \n",
              "6 2013 4     10  1100     1900            960      1342     2211          \n",
              "  arr_delay carrier flight tailnum origin dest air_time distance hour minute\n",
              "1 1272      HA        51   N384HA  JFK    HNL  640      4983      9    0    \n",
              "2 1127      MQ      3535   N504MQ  JFK    CMH   74       483     19   35    \n",
              "3 1109      MQ      3695   N517MQ  EWR    ORD  111       719     16   35    \n",
              "4 1007      AA       177   N338AA  JFK    SFO  354      2586     18   45    \n",
              "5  989      MQ      3075   N665MQ  JFK    CVG   96       589     16    0    \n",
              "6  931      DL      2391   N959DL  JFK    TPA  139      1005     19    0    \n",
              "  time_hour          \n",
              "1 2013-01-09 09:00:00\n",
              "2 2013-06-15 19:00:00\n",
              "3 2013-01-10 16:00:00\n",
              "4 2013-09-20 18:00:00\n",
              "5 2013-07-22 16:00:00\n",
              "6 2013-04-10 19:00:00"
            ],
            "text/latex": "A tibble: 6 × 19\n\\begin{tabular}{lllllllllllllllllll}\n year & month & day & dep\\_time & sched\\_dep\\_time & dep\\_delay & arr\\_time & sched\\_arr\\_time & arr\\_delay & carrier & flight & tailnum & origin & dest & air\\_time & distance & hour & minute & time\\_hour\\\\\n <int> & <int> & <int> & <int> & <int> & <dbl> & <int> & <int> & <dbl> & <chr> & <int> & <chr> & <chr> & <chr> & <dbl> & <dbl> & <dbl> & <dbl> & <dttm>\\\\\n\\hline\n\t 2013 & 1 &  9 &  641 &  900 & 1301 & 1242 & 1530 & 1272 & HA &   51 & N384HA & JFK & HNL & 640 & 4983 &  9 &  0 & 2013-01-09 09:00:00\\\\\n\t 2013 & 6 & 15 & 1432 & 1935 & 1137 & 1607 & 2120 & 1127 & MQ & 3535 & N504MQ & JFK & CMH &  74 &  483 & 19 & 35 & 2013-06-15 19:00:00\\\\\n\t 2013 & 1 & 10 & 1121 & 1635 & 1126 & 1239 & 1810 & 1109 & MQ & 3695 & N517MQ & EWR & ORD & 111 &  719 & 16 & 35 & 2013-01-10 16:00:00\\\\\n\t 2013 & 9 & 20 & 1139 & 1845 & 1014 & 1457 & 2210 & 1007 & AA &  177 & N338AA & JFK & SFO & 354 & 2586 & 18 & 45 & 2013-09-20 18:00:00\\\\\n\t 2013 & 7 & 22 &  845 & 1600 & 1005 & 1044 & 1815 &  989 & MQ & 3075 & N665MQ & JFK & CVG &  96 &  589 & 16 &  0 & 2013-07-22 16:00:00\\\\\n\t 2013 & 4 & 10 & 1100 & 1900 &  960 & 1342 & 2211 &  931 & DL & 2391 & N959DL & JFK & TPA & 139 & 1005 & 19 &  0 & 2013-04-10 19:00:00\\\\\n\\end{tabular}\n",
            "text/markdown": "\nA tibble: 6 × 19\n\n| year &lt;int&gt; | month &lt;int&gt; | day &lt;int&gt; | dep_time &lt;int&gt; | sched_dep_time &lt;int&gt; | dep_delay &lt;dbl&gt; | arr_time &lt;int&gt; | sched_arr_time &lt;int&gt; | arr_delay &lt;dbl&gt; | carrier &lt;chr&gt; | flight &lt;int&gt; | tailnum &lt;chr&gt; | origin &lt;chr&gt; | dest &lt;chr&gt; | air_time &lt;dbl&gt; | distance &lt;dbl&gt; | hour &lt;dbl&gt; | minute &lt;dbl&gt; | time_hour &lt;dttm&gt; |\n|---|---|---|---|---|---|---|---|---|---|---|---|---|---|---|---|---|---|---|\n| 2013 | 1 |  9 |  641 |  900 | 1301 | 1242 | 1530 | 1272 | HA |   51 | N384HA | JFK | HNL | 640 | 4983 |  9 |  0 | 2013-01-09 09:00:00 |\n| 2013 | 6 | 15 | 1432 | 1935 | 1137 | 1607 | 2120 | 1127 | MQ | 3535 | N504MQ | JFK | CMH |  74 |  483 | 19 | 35 | 2013-06-15 19:00:00 |\n| 2013 | 1 | 10 | 1121 | 1635 | 1126 | 1239 | 1810 | 1109 | MQ | 3695 | N517MQ | EWR | ORD | 111 |  719 | 16 | 35 | 2013-01-10 16:00:00 |\n| 2013 | 9 | 20 | 1139 | 1845 | 1014 | 1457 | 2210 | 1007 | AA |  177 | N338AA | JFK | SFO | 354 | 2586 | 18 | 45 | 2013-09-20 18:00:00 |\n| 2013 | 7 | 22 |  845 | 1600 | 1005 | 1044 | 1815 |  989 | MQ | 3075 | N665MQ | JFK | CVG |  96 |  589 | 16 |  0 | 2013-07-22 16:00:00 |\n| 2013 | 4 | 10 | 1100 | 1900 |  960 | 1342 | 2211 |  931 | DL | 2391 | N959DL | JFK | TPA | 139 | 1005 | 19 |  0 | 2013-04-10 19:00:00 |\n\n",
            "text/html": [
              "<table class=\"dataframe\">\n",
              "<caption>A tibble: 6 × 19</caption>\n",
              "<thead>\n",
              "\t<tr><th scope=col>year</th><th scope=col>month</th><th scope=col>day</th><th scope=col>dep_time</th><th scope=col>sched_dep_time</th><th scope=col>dep_delay</th><th scope=col>arr_time</th><th scope=col>sched_arr_time</th><th scope=col>arr_delay</th><th scope=col>carrier</th><th scope=col>flight</th><th scope=col>tailnum</th><th scope=col>origin</th><th scope=col>dest</th><th scope=col>air_time</th><th scope=col>distance</th><th scope=col>hour</th><th scope=col>minute</th><th scope=col>time_hour</th></tr>\n",
              "\t<tr><th scope=col>&lt;int&gt;</th><th scope=col>&lt;int&gt;</th><th scope=col>&lt;int&gt;</th><th scope=col>&lt;int&gt;</th><th scope=col>&lt;int&gt;</th><th scope=col>&lt;dbl&gt;</th><th scope=col>&lt;int&gt;</th><th scope=col>&lt;int&gt;</th><th scope=col>&lt;dbl&gt;</th><th scope=col>&lt;chr&gt;</th><th scope=col>&lt;int&gt;</th><th scope=col>&lt;chr&gt;</th><th scope=col>&lt;chr&gt;</th><th scope=col>&lt;chr&gt;</th><th scope=col>&lt;dbl&gt;</th><th scope=col>&lt;dbl&gt;</th><th scope=col>&lt;dbl&gt;</th><th scope=col>&lt;dbl&gt;</th><th scope=col>&lt;dttm&gt;</th></tr>\n",
              "</thead>\n",
              "<tbody>\n",
              "\t<tr><td>2013</td><td>1</td><td> 9</td><td> 641</td><td> 900</td><td>1301</td><td>1242</td><td>1530</td><td>1272</td><td>HA</td><td>  51</td><td>N384HA</td><td>JFK</td><td>HNL</td><td>640</td><td>4983</td><td> 9</td><td> 0</td><td>2013-01-09 09:00:00</td></tr>\n",
              "\t<tr><td>2013</td><td>6</td><td>15</td><td>1432</td><td>1935</td><td>1137</td><td>1607</td><td>2120</td><td>1127</td><td>MQ</td><td>3535</td><td>N504MQ</td><td>JFK</td><td>CMH</td><td> 74</td><td> 483</td><td>19</td><td>35</td><td>2013-06-15 19:00:00</td></tr>\n",
              "\t<tr><td>2013</td><td>1</td><td>10</td><td>1121</td><td>1635</td><td>1126</td><td>1239</td><td>1810</td><td>1109</td><td>MQ</td><td>3695</td><td>N517MQ</td><td>EWR</td><td>ORD</td><td>111</td><td> 719</td><td>16</td><td>35</td><td>2013-01-10 16:00:00</td></tr>\n",
              "\t<tr><td>2013</td><td>9</td><td>20</td><td>1139</td><td>1845</td><td>1014</td><td>1457</td><td>2210</td><td>1007</td><td>AA</td><td> 177</td><td>N338AA</td><td>JFK</td><td>SFO</td><td>354</td><td>2586</td><td>18</td><td>45</td><td>2013-09-20 18:00:00</td></tr>\n",
              "\t<tr><td>2013</td><td>7</td><td>22</td><td> 845</td><td>1600</td><td>1005</td><td>1044</td><td>1815</td><td> 989</td><td>MQ</td><td>3075</td><td>N665MQ</td><td>JFK</td><td>CVG</td><td> 96</td><td> 589</td><td>16</td><td> 0</td><td>2013-07-22 16:00:00</td></tr>\n",
              "\t<tr><td>2013</td><td>4</td><td>10</td><td>1100</td><td>1900</td><td> 960</td><td>1342</td><td>2211</td><td> 931</td><td>DL</td><td>2391</td><td>N959DL</td><td>JFK</td><td>TPA</td><td>139</td><td>1005</td><td>19</td><td> 0</td><td>2013-04-10 19:00:00</td></tr>\n",
              "</tbody>\n",
              "</table>\n"
            ]
          },
          "metadata": {
            "tags": []
          }
        }
      ]
    },
    {
      "cell_type": "code",
      "metadata": {
        "id": "2cDR-w1r-Y5T"
      },
      "source": [
        ""
      ],
      "execution_count": 41,
      "outputs": []
    },
    {
      "cell_type": "markdown",
      "metadata": {
        "id": "eGSQOXQ4_AU5"
      },
      "source": [
        "## 3.select()\n"
      ]
    },
    {
      "cell_type": "code",
      "metadata": {
        "colab": {
          "base_uri": "https://localhost:8080/",
          "height": 275
        },
        "id": "FlPEAbcc-_4D",
        "outputId": "57f28659-3ef2-44d0-81b9-1f86972f7bd8"
      },
      "source": [
        "select(flights, year, month, day) %>% head()\n"
      ],
      "execution_count": 42,
      "outputs": [
        {
          "output_type": "display_data",
          "data": {
            "text/plain": [
              "  year month day\n",
              "1 2013 1     1  \n",
              "2 2013 1     1  \n",
              "3 2013 1     1  \n",
              "4 2013 1     1  \n",
              "5 2013 1     1  \n",
              "6 2013 1     1  "
            ],
            "text/latex": "A tibble: 6 × 3\n\\begin{tabular}{lll}\n year & month & day\\\\\n <int> & <int> & <int>\\\\\n\\hline\n\t 2013 & 1 & 1\\\\\n\t 2013 & 1 & 1\\\\\n\t 2013 & 1 & 1\\\\\n\t 2013 & 1 & 1\\\\\n\t 2013 & 1 & 1\\\\\n\t 2013 & 1 & 1\\\\\n\\end{tabular}\n",
            "text/markdown": "\nA tibble: 6 × 3\n\n| year &lt;int&gt; | month &lt;int&gt; | day &lt;int&gt; |\n|---|---|---|\n| 2013 | 1 | 1 |\n| 2013 | 1 | 1 |\n| 2013 | 1 | 1 |\n| 2013 | 1 | 1 |\n| 2013 | 1 | 1 |\n| 2013 | 1 | 1 |\n\n",
            "text/html": [
              "<table class=\"dataframe\">\n",
              "<caption>A tibble: 6 × 3</caption>\n",
              "<thead>\n",
              "\t<tr><th scope=col>year</th><th scope=col>month</th><th scope=col>day</th></tr>\n",
              "\t<tr><th scope=col>&lt;int&gt;</th><th scope=col>&lt;int&gt;</th><th scope=col>&lt;int&gt;</th></tr>\n",
              "</thead>\n",
              "<tbody>\n",
              "\t<tr><td>2013</td><td>1</td><td>1</td></tr>\n",
              "\t<tr><td>2013</td><td>1</td><td>1</td></tr>\n",
              "\t<tr><td>2013</td><td>1</td><td>1</td></tr>\n",
              "\t<tr><td>2013</td><td>1</td><td>1</td></tr>\n",
              "\t<tr><td>2013</td><td>1</td><td>1</td></tr>\n",
              "\t<tr><td>2013</td><td>1</td><td>1</td></tr>\n",
              "</tbody>\n",
              "</table>\n"
            ]
          },
          "metadata": {
            "tags": []
          }
        }
      ]
    },
    {
      "cell_type": "code",
      "metadata": {
        "colab": {
          "base_uri": "https://localhost:8080/",
          "height": 275
        },
        "id": "KN7KANxuBW76",
        "outputId": "6ef55139-125f-45ca-af62-73fea936d98c"
      },
      "source": [
        "select(flights, year:arr_delay) %>% head()\n"
      ],
      "execution_count": 43,
      "outputs": [
        {
          "output_type": "display_data",
          "data": {
            "text/plain": [
              "  year month day dep_time sched_dep_time dep_delay arr_time sched_arr_time\n",
              "1 2013 1     1   517      515             2         830      819          \n",
              "2 2013 1     1   533      529             4         850      830          \n",
              "3 2013 1     1   542      540             2         923      850          \n",
              "4 2013 1     1   544      545            -1        1004     1022          \n",
              "5 2013 1     1   554      600            -6         812      837          \n",
              "6 2013 1     1   554      558            -4         740      728          \n",
              "  arr_delay\n",
              "1  11      \n",
              "2  20      \n",
              "3  33      \n",
              "4 -18      \n",
              "5 -25      \n",
              "6  12      "
            ],
            "text/latex": "A tibble: 6 × 9\n\\begin{tabular}{lllllllll}\n year & month & day & dep\\_time & sched\\_dep\\_time & dep\\_delay & arr\\_time & sched\\_arr\\_time & arr\\_delay\\\\\n <int> & <int> & <int> & <int> & <int> & <dbl> & <int> & <int> & <dbl>\\\\\n\\hline\n\t 2013 & 1 & 1 & 517 & 515 &  2 &  830 &  819 &  11\\\\\n\t 2013 & 1 & 1 & 533 & 529 &  4 &  850 &  830 &  20\\\\\n\t 2013 & 1 & 1 & 542 & 540 &  2 &  923 &  850 &  33\\\\\n\t 2013 & 1 & 1 & 544 & 545 & -1 & 1004 & 1022 & -18\\\\\n\t 2013 & 1 & 1 & 554 & 600 & -6 &  812 &  837 & -25\\\\\n\t 2013 & 1 & 1 & 554 & 558 & -4 &  740 &  728 &  12\\\\\n\\end{tabular}\n",
            "text/markdown": "\nA tibble: 6 × 9\n\n| year &lt;int&gt; | month &lt;int&gt; | day &lt;int&gt; | dep_time &lt;int&gt; | sched_dep_time &lt;int&gt; | dep_delay &lt;dbl&gt; | arr_time &lt;int&gt; | sched_arr_time &lt;int&gt; | arr_delay &lt;dbl&gt; |\n|---|---|---|---|---|---|---|---|---|\n| 2013 | 1 | 1 | 517 | 515 |  2 |  830 |  819 |  11 |\n| 2013 | 1 | 1 | 533 | 529 |  4 |  850 |  830 |  20 |\n| 2013 | 1 | 1 | 542 | 540 |  2 |  923 |  850 |  33 |\n| 2013 | 1 | 1 | 544 | 545 | -1 | 1004 | 1022 | -18 |\n| 2013 | 1 | 1 | 554 | 600 | -6 |  812 |  837 | -25 |\n| 2013 | 1 | 1 | 554 | 558 | -4 |  740 |  728 |  12 |\n\n",
            "text/html": [
              "<table class=\"dataframe\">\n",
              "<caption>A tibble: 6 × 9</caption>\n",
              "<thead>\n",
              "\t<tr><th scope=col>year</th><th scope=col>month</th><th scope=col>day</th><th scope=col>dep_time</th><th scope=col>sched_dep_time</th><th scope=col>dep_delay</th><th scope=col>arr_time</th><th scope=col>sched_arr_time</th><th scope=col>arr_delay</th></tr>\n",
              "\t<tr><th scope=col>&lt;int&gt;</th><th scope=col>&lt;int&gt;</th><th scope=col>&lt;int&gt;</th><th scope=col>&lt;int&gt;</th><th scope=col>&lt;int&gt;</th><th scope=col>&lt;dbl&gt;</th><th scope=col>&lt;int&gt;</th><th scope=col>&lt;int&gt;</th><th scope=col>&lt;dbl&gt;</th></tr>\n",
              "</thead>\n",
              "<tbody>\n",
              "\t<tr><td>2013</td><td>1</td><td>1</td><td>517</td><td>515</td><td> 2</td><td> 830</td><td> 819</td><td> 11</td></tr>\n",
              "\t<tr><td>2013</td><td>1</td><td>1</td><td>533</td><td>529</td><td> 4</td><td> 850</td><td> 830</td><td> 20</td></tr>\n",
              "\t<tr><td>2013</td><td>1</td><td>1</td><td>542</td><td>540</td><td> 2</td><td> 923</td><td> 850</td><td> 33</td></tr>\n",
              "\t<tr><td>2013</td><td>1</td><td>1</td><td>544</td><td>545</td><td>-1</td><td>1004</td><td>1022</td><td>-18</td></tr>\n",
              "\t<tr><td>2013</td><td>1</td><td>1</td><td>554</td><td>600</td><td>-6</td><td> 812</td><td> 837</td><td>-25</td></tr>\n",
              "\t<tr><td>2013</td><td>1</td><td>1</td><td>554</td><td>558</td><td>-4</td><td> 740</td><td> 728</td><td> 12</td></tr>\n",
              "</tbody>\n",
              "</table>\n"
            ]
          },
          "metadata": {
            "tags": []
          }
        }
      ]
    },
    {
      "cell_type": "code",
      "metadata": {
        "colab": {
          "base_uri": "https://localhost:8080/",
          "height": 399
        },
        "id": "Jy0Zoby2BWp7",
        "outputId": "f4bb521f-96a8-4053-cdea-b401184ee7aa"
      },
      "source": [
        "select(flights, -(year:day)) %>% head()"
      ],
      "execution_count": 44,
      "outputs": [
        {
          "output_type": "display_data",
          "data": {
            "text/plain": [
              "  dep_time sched_dep_time dep_delay arr_time sched_arr_time arr_delay carrier\n",
              "1 517      515             2         830      819            11       UA     \n",
              "2 533      529             4         850      830            20       UA     \n",
              "3 542      540             2         923      850            33       AA     \n",
              "4 544      545            -1        1004     1022           -18       B6     \n",
              "5 554      600            -6         812      837           -25       DL     \n",
              "6 554      558            -4         740      728            12       UA     \n",
              "  flight tailnum origin dest air_time distance hour minute time_hour          \n",
              "1 1545   N14228  EWR    IAH  227      1400     5    15     2013-01-01 05:00:00\n",
              "2 1714   N24211  LGA    IAH  227      1416     5    29     2013-01-01 05:00:00\n",
              "3 1141   N619AA  JFK    MIA  160      1089     5    40     2013-01-01 05:00:00\n",
              "4  725   N804JB  JFK    BQN  183      1576     5    45     2013-01-01 05:00:00\n",
              "5  461   N668DN  LGA    ATL  116       762     6     0     2013-01-01 06:00:00\n",
              "6 1696   N39463  EWR    ORD  150       719     5    58     2013-01-01 05:00:00"
            ],
            "text/latex": "A tibble: 6 × 16\n\\begin{tabular}{llllllllllllllll}\n dep\\_time & sched\\_dep\\_time & dep\\_delay & arr\\_time & sched\\_arr\\_time & arr\\_delay & carrier & flight & tailnum & origin & dest & air\\_time & distance & hour & minute & time\\_hour\\\\\n <int> & <int> & <dbl> & <int> & <int> & <dbl> & <chr> & <int> & <chr> & <chr> & <chr> & <dbl> & <dbl> & <dbl> & <dbl> & <dttm>\\\\\n\\hline\n\t 517 & 515 &  2 &  830 &  819 &  11 & UA & 1545 & N14228 & EWR & IAH & 227 & 1400 & 5 & 15 & 2013-01-01 05:00:00\\\\\n\t 533 & 529 &  4 &  850 &  830 &  20 & UA & 1714 & N24211 & LGA & IAH & 227 & 1416 & 5 & 29 & 2013-01-01 05:00:00\\\\\n\t 542 & 540 &  2 &  923 &  850 &  33 & AA & 1141 & N619AA & JFK & MIA & 160 & 1089 & 5 & 40 & 2013-01-01 05:00:00\\\\\n\t 544 & 545 & -1 & 1004 & 1022 & -18 & B6 &  725 & N804JB & JFK & BQN & 183 & 1576 & 5 & 45 & 2013-01-01 05:00:00\\\\\n\t 554 & 600 & -6 &  812 &  837 & -25 & DL &  461 & N668DN & LGA & ATL & 116 &  762 & 6 &  0 & 2013-01-01 06:00:00\\\\\n\t 554 & 558 & -4 &  740 &  728 &  12 & UA & 1696 & N39463 & EWR & ORD & 150 &  719 & 5 & 58 & 2013-01-01 05:00:00\\\\\n\\end{tabular}\n",
            "text/markdown": "\nA tibble: 6 × 16\n\n| dep_time &lt;int&gt; | sched_dep_time &lt;int&gt; | dep_delay &lt;dbl&gt; | arr_time &lt;int&gt; | sched_arr_time &lt;int&gt; | arr_delay &lt;dbl&gt; | carrier &lt;chr&gt; | flight &lt;int&gt; | tailnum &lt;chr&gt; | origin &lt;chr&gt; | dest &lt;chr&gt; | air_time &lt;dbl&gt; | distance &lt;dbl&gt; | hour &lt;dbl&gt; | minute &lt;dbl&gt; | time_hour &lt;dttm&gt; |\n|---|---|---|---|---|---|---|---|---|---|---|---|---|---|---|---|\n| 517 | 515 |  2 |  830 |  819 |  11 | UA | 1545 | N14228 | EWR | IAH | 227 | 1400 | 5 | 15 | 2013-01-01 05:00:00 |\n| 533 | 529 |  4 |  850 |  830 |  20 | UA | 1714 | N24211 | LGA | IAH | 227 | 1416 | 5 | 29 | 2013-01-01 05:00:00 |\n| 542 | 540 |  2 |  923 |  850 |  33 | AA | 1141 | N619AA | JFK | MIA | 160 | 1089 | 5 | 40 | 2013-01-01 05:00:00 |\n| 544 | 545 | -1 | 1004 | 1022 | -18 | B6 |  725 | N804JB | JFK | BQN | 183 | 1576 | 5 | 45 | 2013-01-01 05:00:00 |\n| 554 | 600 | -6 |  812 |  837 | -25 | DL |  461 | N668DN | LGA | ATL | 116 |  762 | 6 |  0 | 2013-01-01 06:00:00 |\n| 554 | 558 | -4 |  740 |  728 |  12 | UA | 1696 | N39463 | EWR | ORD | 150 |  719 | 5 | 58 | 2013-01-01 05:00:00 |\n\n",
            "text/html": [
              "<table class=\"dataframe\">\n",
              "<caption>A tibble: 6 × 16</caption>\n",
              "<thead>\n",
              "\t<tr><th scope=col>dep_time</th><th scope=col>sched_dep_time</th><th scope=col>dep_delay</th><th scope=col>arr_time</th><th scope=col>sched_arr_time</th><th scope=col>arr_delay</th><th scope=col>carrier</th><th scope=col>flight</th><th scope=col>tailnum</th><th scope=col>origin</th><th scope=col>dest</th><th scope=col>air_time</th><th scope=col>distance</th><th scope=col>hour</th><th scope=col>minute</th><th scope=col>time_hour</th></tr>\n",
              "\t<tr><th scope=col>&lt;int&gt;</th><th scope=col>&lt;int&gt;</th><th scope=col>&lt;dbl&gt;</th><th scope=col>&lt;int&gt;</th><th scope=col>&lt;int&gt;</th><th scope=col>&lt;dbl&gt;</th><th scope=col>&lt;chr&gt;</th><th scope=col>&lt;int&gt;</th><th scope=col>&lt;chr&gt;</th><th scope=col>&lt;chr&gt;</th><th scope=col>&lt;chr&gt;</th><th scope=col>&lt;dbl&gt;</th><th scope=col>&lt;dbl&gt;</th><th scope=col>&lt;dbl&gt;</th><th scope=col>&lt;dbl&gt;</th><th scope=col>&lt;dttm&gt;</th></tr>\n",
              "</thead>\n",
              "<tbody>\n",
              "\t<tr><td>517</td><td>515</td><td> 2</td><td> 830</td><td> 819</td><td> 11</td><td>UA</td><td>1545</td><td>N14228</td><td>EWR</td><td>IAH</td><td>227</td><td>1400</td><td>5</td><td>15</td><td>2013-01-01 05:00:00</td></tr>\n",
              "\t<tr><td>533</td><td>529</td><td> 4</td><td> 850</td><td> 830</td><td> 20</td><td>UA</td><td>1714</td><td>N24211</td><td>LGA</td><td>IAH</td><td>227</td><td>1416</td><td>5</td><td>29</td><td>2013-01-01 05:00:00</td></tr>\n",
              "\t<tr><td>542</td><td>540</td><td> 2</td><td> 923</td><td> 850</td><td> 33</td><td>AA</td><td>1141</td><td>N619AA</td><td>JFK</td><td>MIA</td><td>160</td><td>1089</td><td>5</td><td>40</td><td>2013-01-01 05:00:00</td></tr>\n",
              "\t<tr><td>544</td><td>545</td><td>-1</td><td>1004</td><td>1022</td><td>-18</td><td>B6</td><td> 725</td><td>N804JB</td><td>JFK</td><td>BQN</td><td>183</td><td>1576</td><td>5</td><td>45</td><td>2013-01-01 05:00:00</td></tr>\n",
              "\t<tr><td>554</td><td>600</td><td>-6</td><td> 812</td><td> 837</td><td>-25</td><td>DL</td><td> 461</td><td>N668DN</td><td>LGA</td><td>ATL</td><td>116</td><td> 762</td><td>6</td><td> 0</td><td>2013-01-01 06:00:00</td></tr>\n",
              "\t<tr><td>554</td><td>558</td><td>-4</td><td> 740</td><td> 728</td><td> 12</td><td>UA</td><td>1696</td><td>N39463</td><td>EWR</td><td>ORD</td><td>150</td><td> 719</td><td>5</td><td>58</td><td>2013-01-01 05:00:00</td></tr>\n",
              "</tbody>\n",
              "</table>\n"
            ]
          },
          "metadata": {
            "tags": []
          }
        }
      ]
    },
    {
      "cell_type": "code",
      "metadata": {
        "colab": {
          "base_uri": "https://localhost:8080/",
          "height": 275
        },
        "id": "I-xOXODZBtau",
        "outputId": "afa4d57a-e4d2-413c-ab1c-d1bc6902e229"
      },
      "source": [
        "select(flights, starts_with(\"dep\")) %>% head()"
      ],
      "execution_count": 45,
      "outputs": [
        {
          "output_type": "display_data",
          "data": {
            "text/plain": [
              "  dep_time dep_delay\n",
              "1 517       2       \n",
              "2 533       4       \n",
              "3 542       2       \n",
              "4 544      -1       \n",
              "5 554      -6       \n",
              "6 554      -4       "
            ],
            "text/latex": "A tibble: 6 × 2\n\\begin{tabular}{ll}\n dep\\_time & dep\\_delay\\\\\n <int> & <dbl>\\\\\n\\hline\n\t 517 &  2\\\\\n\t 533 &  4\\\\\n\t 542 &  2\\\\\n\t 544 & -1\\\\\n\t 554 & -6\\\\\n\t 554 & -4\\\\\n\\end{tabular}\n",
            "text/markdown": "\nA tibble: 6 × 2\n\n| dep_time &lt;int&gt; | dep_delay &lt;dbl&gt; |\n|---|---|\n| 517 |  2 |\n| 533 |  4 |\n| 542 |  2 |\n| 544 | -1 |\n| 554 | -6 |\n| 554 | -4 |\n\n",
            "text/html": [
              "<table class=\"dataframe\">\n",
              "<caption>A tibble: 6 × 2</caption>\n",
              "<thead>\n",
              "\t<tr><th scope=col>dep_time</th><th scope=col>dep_delay</th></tr>\n",
              "\t<tr><th scope=col>&lt;int&gt;</th><th scope=col>&lt;dbl&gt;</th></tr>\n",
              "</thead>\n",
              "<tbody>\n",
              "\t<tr><td>517</td><td> 2</td></tr>\n",
              "\t<tr><td>533</td><td> 4</td></tr>\n",
              "\t<tr><td>542</td><td> 2</td></tr>\n",
              "\t<tr><td>544</td><td>-1</td></tr>\n",
              "\t<tr><td>554</td><td>-6</td></tr>\n",
              "\t<tr><td>554</td><td>-4</td></tr>\n",
              "</tbody>\n",
              "</table>\n"
            ]
          },
          "metadata": {
            "tags": []
          }
        }
      ]
    },
    {
      "cell_type": "markdown",
      "metadata": {
        "id": "b9duykFgx7ZU"
      },
      "source": [
        "##4.mutate"
      ]
    },
    {
      "cell_type": "code",
      "metadata": {
        "colab": {
          "base_uri": "https://localhost:8080/",
          "height": 275
        },
        "id": "BHAvMFi0pLDJ",
        "outputId": "0cab0c42-7f41-42ef-a43f-ac72fe2a7d8f"
      },
      "source": [
        "flights %>%\n",
        "    select(year:day, ends_with(\"delay\"), distance, air_time) %>%\n",
        "    mutate(gain = dep_delay - arr_delay,\n",
        "        hours = air_time/60,\n",
        "        gain_per_hour = gain/hours) %>% head()"
      ],
      "execution_count": 46,
      "outputs": [
        {
          "output_type": "display_data",
          "data": {
            "text/plain": [
              "  year month day dep_delay arr_delay distance air_time gain hours   \n",
              "1 2013 1     1    2         11       1400     227       -9  3.783333\n",
              "2 2013 1     1    4         20       1416     227      -16  3.783333\n",
              "3 2013 1     1    2         33       1089     160      -31  2.666667\n",
              "4 2013 1     1   -1        -18       1576     183       17  3.050000\n",
              "5 2013 1     1   -6        -25        762     116       19  1.933333\n",
              "6 2013 1     1   -4         12        719     150      -16  2.500000\n",
              "  gain_per_hour\n",
              "1  -2.378855   \n",
              "2  -4.229075   \n",
              "3 -11.625000   \n",
              "4   5.573770   \n",
              "5   9.827586   \n",
              "6  -6.400000   "
            ],
            "text/latex": "A tibble: 6 × 10\n\\begin{tabular}{llllllllll}\n year & month & day & dep\\_delay & arr\\_delay & distance & air\\_time & gain & hours & gain\\_per\\_hour\\\\\n <int> & <int> & <int> & <dbl> & <dbl> & <dbl> & <dbl> & <dbl> & <dbl> & <dbl>\\\\\n\\hline\n\t 2013 & 1 & 1 &  2 &  11 & 1400 & 227 &  -9 & 3.783333 &  -2.378855\\\\\n\t 2013 & 1 & 1 &  4 &  20 & 1416 & 227 & -16 & 3.783333 &  -4.229075\\\\\n\t 2013 & 1 & 1 &  2 &  33 & 1089 & 160 & -31 & 2.666667 & -11.625000\\\\\n\t 2013 & 1 & 1 & -1 & -18 & 1576 & 183 &  17 & 3.050000 &   5.573770\\\\\n\t 2013 & 1 & 1 & -6 & -25 &  762 & 116 &  19 & 1.933333 &   9.827586\\\\\n\t 2013 & 1 & 1 & -4 &  12 &  719 & 150 & -16 & 2.500000 &  -6.400000\\\\\n\\end{tabular}\n",
            "text/markdown": "\nA tibble: 6 × 10\n\n| year &lt;int&gt; | month &lt;int&gt; | day &lt;int&gt; | dep_delay &lt;dbl&gt; | arr_delay &lt;dbl&gt; | distance &lt;dbl&gt; | air_time &lt;dbl&gt; | gain &lt;dbl&gt; | hours &lt;dbl&gt; | gain_per_hour &lt;dbl&gt; |\n|---|---|---|---|---|---|---|---|---|---|\n| 2013 | 1 | 1 |  2 |  11 | 1400 | 227 |  -9 | 3.783333 |  -2.378855 |\n| 2013 | 1 | 1 |  4 |  20 | 1416 | 227 | -16 | 3.783333 |  -4.229075 |\n| 2013 | 1 | 1 |  2 |  33 | 1089 | 160 | -31 | 2.666667 | -11.625000 |\n| 2013 | 1 | 1 | -1 | -18 | 1576 | 183 |  17 | 3.050000 |   5.573770 |\n| 2013 | 1 | 1 | -6 | -25 |  762 | 116 |  19 | 1.933333 |   9.827586 |\n| 2013 | 1 | 1 | -4 |  12 |  719 | 150 | -16 | 2.500000 |  -6.400000 |\n\n",
            "text/html": [
              "<table class=\"dataframe\">\n",
              "<caption>A tibble: 6 × 10</caption>\n",
              "<thead>\n",
              "\t<tr><th scope=col>year</th><th scope=col>month</th><th scope=col>day</th><th scope=col>dep_delay</th><th scope=col>arr_delay</th><th scope=col>distance</th><th scope=col>air_time</th><th scope=col>gain</th><th scope=col>hours</th><th scope=col>gain_per_hour</th></tr>\n",
              "\t<tr><th scope=col>&lt;int&gt;</th><th scope=col>&lt;int&gt;</th><th scope=col>&lt;int&gt;</th><th scope=col>&lt;dbl&gt;</th><th scope=col>&lt;dbl&gt;</th><th scope=col>&lt;dbl&gt;</th><th scope=col>&lt;dbl&gt;</th><th scope=col>&lt;dbl&gt;</th><th scope=col>&lt;dbl&gt;</th><th scope=col>&lt;dbl&gt;</th></tr>\n",
              "</thead>\n",
              "<tbody>\n",
              "\t<tr><td>2013</td><td>1</td><td>1</td><td> 2</td><td> 11</td><td>1400</td><td>227</td><td> -9</td><td>3.783333</td><td> -2.378855</td></tr>\n",
              "\t<tr><td>2013</td><td>1</td><td>1</td><td> 4</td><td> 20</td><td>1416</td><td>227</td><td>-16</td><td>3.783333</td><td> -4.229075</td></tr>\n",
              "\t<tr><td>2013</td><td>1</td><td>1</td><td> 2</td><td> 33</td><td>1089</td><td>160</td><td>-31</td><td>2.666667</td><td>-11.625000</td></tr>\n",
              "\t<tr><td>2013</td><td>1</td><td>1</td><td>-1</td><td>-18</td><td>1576</td><td>183</td><td> 17</td><td>3.050000</td><td>  5.573770</td></tr>\n",
              "\t<tr><td>2013</td><td>1</td><td>1</td><td>-6</td><td>-25</td><td> 762</td><td>116</td><td> 19</td><td>1.933333</td><td>  9.827586</td></tr>\n",
              "\t<tr><td>2013</td><td>1</td><td>1</td><td>-4</td><td> 12</td><td> 719</td><td>150</td><td>-16</td><td>2.500000</td><td> -6.400000</td></tr>\n",
              "</tbody>\n",
              "</table>\n"
            ]
          },
          "metadata": {
            "tags": []
          }
        }
      ]
    },
    {
      "cell_type": "markdown",
      "metadata": {
        "id": "lZ7T-DXr-_cq"
      },
      "source": [
        "## 5.summarise()\n"
      ]
    },
    {
      "cell_type": "code",
      "metadata": {
        "colab": {
          "base_uri": "https://localhost:8080/",
          "height": 312
        },
        "id": "jsWxAjsOKATo",
        "outputId": "c086c68c-e859-4823-9f3b-0bafedf8c1d6"
      },
      "source": [
        "flights %>% group_by(year, month, day) %>% \n",
        "summarise(delay=mean(dep_delay,na.rm=TRUE)) %>%head()"
      ],
      "execution_count": 47,
      "outputs": [
        {
          "output_type": "stream",
          "text": [
            "`summarise()` has grouped output by 'year', 'month'. You can override using the `.groups` argument.\n",
            "\n"
          ],
          "name": "stderr"
        },
        {
          "output_type": "display_data",
          "data": {
            "text/plain": [
              "  year month day delay    \n",
              "1 2013 1     1   11.548926\n",
              "2 2013 1     2   13.858824\n",
              "3 2013 1     3   10.987832\n",
              "4 2013 1     4    8.951595\n",
              "5 2013 1     5    5.732218\n",
              "6 2013 1     6    7.148014"
            ],
            "text/latex": "A grouped\\_df: 6 × 4\n\\begin{tabular}{llll}\n year & month & day & delay\\\\\n <int> & <int> & <int> & <dbl>\\\\\n\\hline\n\t 2013 & 1 & 1 & 11.548926\\\\\n\t 2013 & 1 & 2 & 13.858824\\\\\n\t 2013 & 1 & 3 & 10.987832\\\\\n\t 2013 & 1 & 4 &  8.951595\\\\\n\t 2013 & 1 & 5 &  5.732218\\\\\n\t 2013 & 1 & 6 &  7.148014\\\\\n\\end{tabular}\n",
            "text/markdown": "\nA grouped_df: 6 × 4\n\n| year &lt;int&gt; | month &lt;int&gt; | day &lt;int&gt; | delay &lt;dbl&gt; |\n|---|---|---|---|\n| 2013 | 1 | 1 | 11.548926 |\n| 2013 | 1 | 2 | 13.858824 |\n| 2013 | 1 | 3 | 10.987832 |\n| 2013 | 1 | 4 |  8.951595 |\n| 2013 | 1 | 5 |  5.732218 |\n| 2013 | 1 | 6 |  7.148014 |\n\n",
            "text/html": [
              "<table class=\"dataframe\">\n",
              "<caption>A grouped_df: 6 × 4</caption>\n",
              "<thead>\n",
              "\t<tr><th scope=col>year</th><th scope=col>month</th><th scope=col>day</th><th scope=col>delay</th></tr>\n",
              "\t<tr><th scope=col>&lt;int&gt;</th><th scope=col>&lt;int&gt;</th><th scope=col>&lt;int&gt;</th><th scope=col>&lt;dbl&gt;</th></tr>\n",
              "</thead>\n",
              "<tbody>\n",
              "\t<tr><td>2013</td><td>1</td><td>1</td><td>11.548926</td></tr>\n",
              "\t<tr><td>2013</td><td>1</td><td>2</td><td>13.858824</td></tr>\n",
              "\t<tr><td>2013</td><td>1</td><td>3</td><td>10.987832</td></tr>\n",
              "\t<tr><td>2013</td><td>1</td><td>4</td><td> 8.951595</td></tr>\n",
              "\t<tr><td>2013</td><td>1</td><td>5</td><td> 5.732218</td></tr>\n",
              "\t<tr><td>2013</td><td>1</td><td>6</td><td> 7.148014</td></tr>\n",
              "</tbody>\n",
              "</table>\n"
            ]
          },
          "metadata": {
            "tags": []
          }
        }
      ]
    },
    {
      "cell_type": "code",
      "metadata": {
        "colab": {
          "base_uri": "https://localhost:8080/",
          "height": 185
        },
        "id": "6pKUEXUiKB3q",
        "outputId": "978bcb4f-e61e-4830-f909-05f02b0e381a"
      },
      "source": [
        "flights %>% group_by(origin) %>% \n",
        "summarise(delay = mean(dep_delay, na.rm = TRUE), sd_delay = sd(dep_delay, na.rm = TRUE)) %>% \n",
        "filter(delay>10,origin !='ABQ') %>% head()"
      ],
      "execution_count": 48,
      "outputs": [
        {
          "output_type": "display_data",
          "data": {
            "text/plain": [
              "  origin delay    sd_delay\n",
              "1 EWR    15.10795 41.32370\n",
              "2 JFK    12.11216 39.03507\n",
              "3 LGA    10.34688 39.99302"
            ],
            "text/latex": "A tibble: 3 × 3\n\\begin{tabular}{lll}\n origin & delay & sd\\_delay\\\\\n <chr> & <dbl> & <dbl>\\\\\n\\hline\n\t EWR & 15.10795 & 41.32370\\\\\n\t JFK & 12.11216 & 39.03507\\\\\n\t LGA & 10.34688 & 39.99302\\\\\n\\end{tabular}\n",
            "text/markdown": "\nA tibble: 3 × 3\n\n| origin &lt;chr&gt; | delay &lt;dbl&gt; | sd_delay &lt;dbl&gt; |\n|---|---|---|\n| EWR | 15.10795 | 41.32370 |\n| JFK | 12.11216 | 39.03507 |\n| LGA | 10.34688 | 39.99302 |\n\n",
            "text/html": [
              "<table class=\"dataframe\">\n",
              "<caption>A tibble: 3 × 3</caption>\n",
              "<thead>\n",
              "\t<tr><th scope=col>origin</th><th scope=col>delay</th><th scope=col>sd_delay</th></tr>\n",
              "\t<tr><th scope=col>&lt;chr&gt;</th><th scope=col>&lt;dbl&gt;</th><th scope=col>&lt;dbl&gt;</th></tr>\n",
              "</thead>\n",
              "<tbody>\n",
              "\t<tr><td>EWR</td><td>15.10795</td><td>41.32370</td></tr>\n",
              "\t<tr><td>JFK</td><td>12.11216</td><td>39.03507</td></tr>\n",
              "\t<tr><td>LGA</td><td>10.34688</td><td>39.99302</td></tr>\n",
              "</tbody>\n",
              "</table>\n"
            ]
          },
          "metadata": {
            "tags": []
          }
        }
      ]
    },
    {
      "cell_type": "markdown",
      "metadata": {
        "id": "DhYRdWqTLxJE"
      },
      "source": [
        "# visualization"
      ]
    },
    {
      "cell_type": "markdown",
      "metadata": {
        "id": "mPtWRZFDG6ww"
      },
      "source": [
        "전체 운영 수 중에 delay된 횟수의 비율이 높은 곳일수록 평균 delay 시간(-시간을 제외한 실제 딜레이 시간)도 더 긴지 알아봤다."
      ]
    },
    {
      "cell_type": "code",
      "metadata": {
        "colab": {
          "base_uri": "https://localhost:8080/",
          "height": 583
        },
        "id": "9_6SxfdvCw6N",
        "outputId": "f7083c5d-6457-45e0-beb9-228d5965ac33"
      },
      "source": [
        "flights %>% mutate(latecount = ifelse(arr_delay > 0, 1, 0),real_arr_delay = ifelse(arr_delay > 0, arr_delay, 0)) %>% group_by(dest,origin) %>%\n",
        "   summarise(count = n(), dist = mean(distance, na.rm = TRUE), latecount=sum(latecount,na.rm=TRUE), time = mean(real_arr_delay, na.rm = TRUE) ) %>%\n",
        "  mutate(delay_rate=latecount/count) %>%\n",
        "   arrange(desc(delay_rate)) %>%\n",
        "ggplot(mapping = aes(x = delay_rate, y = time)) +\n",
        "#  geom_point(aes(size = count), alpha = 1/3) +\n",
        "geom_point() +\n",
        "geom_smooth(se = FALSE)"
      ],
      "execution_count": 84,
      "outputs": [
        {
          "output_type": "stream",
          "text": [
            "`summarise()` has grouped output by 'dest'. You can override using the `.groups` argument.\n",
            "\n",
            "`geom_smooth()` using method = 'loess' and formula 'y ~ x'\n",
            "\n",
            "Warning message:\n",
            "“Removed 1 rows containing non-finite values (stat_smooth).”\n",
            "Warning message:\n",
            "“Removed 1 rows containing missing values (geom_point).”\n"
          ],
          "name": "stderr"
        },
        {
          "output_type": "display_data",
          "data": {
            "image/png": "[encoded data removed]",
            "text/plain": [
              "plot without title"
            ]
          },
          "metadata": {
            "tags": [],
            "image/png": {
              "width": 420,
              "height": 420
            }
          }
        }
      ]
    },
    {
      "cell_type": "markdown",
      "metadata": {
        "id": "8YhMiE_OHP2h"
      },
      "source": [
        "약간의 차이는 보이나 delay 횟수가 많을수록, 평균 delay 시간(-시간 제외)도 늘어난 것으로 보인다."
      ]
    },
    {
      "cell_type": "code",
      "metadata": {
        "id": "XuUC7t12MQSG"
      },
      "source": [
        ""
      ],
      "execution_count": null,
      "outputs": []
    }
  ]
}